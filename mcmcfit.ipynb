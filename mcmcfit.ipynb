{
 "cells": [
  {
   "cell_type": "code",
   "execution_count": 1,
   "metadata": {
    "collapsed": false
   },
   "outputs": [],
   "source": [
    "# coding: utf-8\n",
    "\n",
    "import numpy as np\n",
    "import matplotlib.pyplot as plt\n",
    "%matplotlib inline\n",
    "import scipy.optimize as sco\n",
    "import scipy.stats as scs\n",
    "import emcee"
   ]
  },
  {
   "cell_type": "markdown",
   "metadata": {},
   "source": [
    "## Functions"
   ]
  },
  {
   "cell_type": "code",
   "execution_count": 2,
   "metadata": {
    "collapsed": false
   },
   "outputs": [],
   "source": [
    "def mcmc_maximize(logfun, x0, args, **kwargs):\n",
    "    \"\"\"\n",
    "    Maximize a pdf given as log(prob).\n",
    "\n",
    "    Parameters\n",
    "    ----------\n",
    "    logfun : function\n",
    "        Logarithm of a pdf, taking an n-dim input vector and returning a scalar\n",
    "    x0 : array-like\n",
    "        Initial guess values for the maximization for each dimension\n",
    "    args : tuple\n",
    "        Additonal parameters passed to ``logfun``. Call signature is\n",
    "        ``logfun(x, *args)``\n",
    "\n",
    "    kwargs\n",
    "    ------\n",
    "    nwalkers : int\n",
    "        Even number of walkers per dimension for the MCMC implementation\n",
    "    niter : int\n",
    "        Number of random samples drawn in each MCMC sample step\n",
    "    maxiter : int\n",
    "        Maximum number of iterations to find the minimum. Total samples drawn\n",
    "        by the MCMC sampler are niter * maxiter\n",
    "    rel_eps : float\n",
    "        Precision to which the minimum position is calculated\n",
    "\n",
    "    Returns\n",
    "    -------\n",
    "    res : dictionary\n",
    "        scipy.minimize result dict\n",
    "    \"\"\"\n",
    "    x0 = np.atleast_1d(x0)\n",
    "    ndim = len(x0)\n",
    "\n",
    "    nwalkers = kwargs.pop(\"nwalkers\", 4 * ndim)\n",
    "    niter = kwargs.pop(\"niter\", 100 * ndim)\n",
    "    maxiter = kwargs.pop(\"maxiter\", 50)\n",
    "    rel_eps = kwargs.pop(\"rel_eps\", 1.e-5)\n",
    "\n",
    "    # Create starting point for each walker in a gaussian ball around x0\n",
    "    mean = x0\n",
    "    cov = mean / (0.1 * np.sqrt(np.abs(mean)))\n",
    "    p0 = np.random.normal(mean=mean, cov=cov).reshape((nwalkers, ndim))\n",
    "\n",
    "    sampler = emcee.EnsembleSampler(\n",
    "        nwalkers=nwalkers, dim=ndim, lnpostfn=logfun)\n",
    "\n",
    "    def neglogfun(x, *args):\n",
    "        \"\"\"Define the negative function for the classic minimizer\"\"\"\n",
    "        return -1. * logfun(x, *args)\n",
    "    \n",
    "    # Save all minimizer results\n",
    "    res = []\n",
    "    \n",
    "    # Generate seed point for classic minimizer via MCMC until the minimum\n",
    "    # converges between iterations\n",
    "    for i in range(maxiter):\n",
    "        # First run MCMC and get a minimum\n",
    "        p0, _, _ = sampler.run_mcmc(pos0=p0, N=niter)\n",
    "        lnprob = np.append(lnprob, sampler.flatlnprobability)\n",
    "        min_idx = np.argmin(lnprob)\n",
    "        xmin = sampler.flatchain[min_idx]\n",
    "        \n",
    "        # Then ue a classic fitter with the MCMC minimum as a seed\n",
    "        res.append(sco.minimize(fun=neglogfun, x0=p0, args=args))\n",
    "        \n",
    "        if terminate(res, rel_eps):\n",
    "            break\n",
    "    return res, i, lnprob, sampler.flatchain\n",
    "\n",
    "def terminate(res, rel_eps):\n",
    "    \"\"\"\"\n",
    "    Returns True if a given termination condition is matched, otherwise\n",
    "    returns False.\n",
    "    \n",
    "    Parameters\n",
    "    ----------\n",
    "    res : list\n",
    "        Hold the OptimizeObjects from every iteration\n",
    "    rel_eps : float\n",
    "        Precision to which the minimum position is calculated\n",
    "    \"\"\"\n",
    "    if len(res) < 2:\n",
    "        return False\n",
    "        \n",
    "    res_cur = res[-1].x\n",
    "    res_prev = res[-2].x\n",
    "    \n",
    "    if (np.any(np.abs(res_cur) < rel_eps) or\n",
    "        np.any(np.abs(res.prev) < rel_eps)):\n",
    "        cond = np.abs(res_cur - res_prev) < rel_eps\n",
    "    else:\n",
    "        cond = np.abs(res_cur / res_prev) < rel_eps\n",
    "    \n",
    "    return cond"
   ]
  },
  {
   "cell_type": "code",
   "execution_count": 3,
   "metadata": {
    "collapsed": true
   },
   "outputs": [],
   "source": [
    "def log_double_gaus(x, mu, sigma):\n",
    "    \"\"\"\n",
    "    Each gaussian contributes equally\n",
    "    \n",
    "    x : array\n",
    "        2D array with shape (npoint, len(mu))\n",
    "    \"\"\"\n",
    "    x = np.atleast_1d(x)\n",
    "    x = x.reshape(len(x), 1).repeat(len(mu), axis=1)\n",
    "    return np.log(np.sum(scs.norm.pdf(x, mu, sigma), axis=1) / len(mu))"
   ]
  },
  {
   "cell_type": "code",
   "execution_count": 6,
   "metadata": {
    "collapsed": true
   },
   "outputs": [],
   "source": [
    "def neglogllh(par, args):\n",
    "    \"\"\"\n",
    "    Negative log-likelihood of the double peak gaussian\n",
    "    \n",
    "    Parameters\n",
    "    ----------\n",
    "    par : array-like\n",
    "        First half are mu values, second half are sigma values\n",
    "    args : tupel\n",
    "        args(0) is the array with the sample points x\n",
    "        \n",
    "    Returns\n",
    "    -------\n",
    "    neglhh : float\n",
    "        Negative log-likelihood value for the given sample points and paramters\n",
    "    \"\"\"\n",
    "    ndim = len(par)\n",
    "    mu, sigma = par[:ndim//2], par[ndim//2:]\n",
    "    xis = args[0]\n",
    "    \n",
    "    negllh = -1. * np.sum(log_double_gaus(xis, mu, sigma))\n",
    "    return negllh"
   ]
  },
  {
   "cell_type": "code",
   "execution_count": 4,
   "metadata": {
    "collapsed": true
   },
   "outputs": [],
   "source": [
    "def double_gaus_sample(mu, sigma, nevts):\n",
    "    idx = np.random.choice(range(len(mu)), size=nevts)\n",
    "    mus = mu[idx]\n",
    "    sigmas = sigma[idx]\n",
    "    \n",
    "    sample = np.random.normal(mus, sigmas)\n",
    "    return sample"
   ]
  },
  {
   "cell_type": "markdown",
   "metadata": {},
   "source": [
    "## Testdata and scans"
   ]
  },
  {
   "cell_type": "code",
   "execution_count": 5,
   "metadata": {
    "collapsed": false
   },
   "outputs": [
    {
     "data": {
      "image/png": "[encoded data removed]",
      "text/plain": [
       "<matplotlib.figure.Figure at 0x105f43590>"
      ]
     },
     "metadata": {},
     "output_type": "display_data"
    }
   ],
   "source": [
    "# Setup 2 peaks\n",
    "mu = np.array([2, 5])\n",
    "sigma = np.array([.5, 1.])\n",
    "\n",
    "# Scan pdf\n",
    "x = np.linspace(0, 10, 1000)\n",
    "y = np.exp(log_double_gaus(x, mu, sigma))\n",
    "    \n",
    "# Sample\n",
    "sample = double_gaus_sample(mu, sigma, 10000)\n",
    "\n",
    "plt.hist(sample, bins=40, normed=True);\n",
    "plt.plot(x, y, \"k-\");"
   ]
  },
  {
   "cell_type": "code",
   "execution_count": 7,
   "metadata": {
    "collapsed": false
   },
   "outputs": [],
   "source": [
    "# Do a LLH scan in mu1, mu2 space around true sigma\n",
    "mu1 = np.linspace(-2, 12)\n",
    "mu2 = np.linspace(-2, 12)\n",
    "mu1, mu2 = np.meshgrid(mu1, mu2)\n",
    "\n",
    "MU1 = mu1.flatten()\n",
    "MU2 = mu2.flatten()\n",
    "\n",
    "z = np.zeros_like(MU1)\n",
    "\n",
    "for i, (mu1i, mu2i) in enumerate(zip(MU1, MU2)):\n",
    "    mui = np.array([mu1i, mu2i])\n",
    "    z[i] = neglogllh(np.append(mui, sigma), (sample,))\n",
    "    \n",
    "z = z.reshape(mu1.shape)"
   ]
  },
  {
   "cell_type": "code",
   "execution_count": 8,
   "metadata": {
    "collapsed": false,
    "scrolled": true
   },
   "outputs": [
    {
     "data": {
      "text/plain": [
       "<matplotlib.text.Text at 0x1060ff090>"
      ]
     },
     "execution_count": 8,
     "metadata": {},
     "output_type": "execute_result"
    },
    {
     "data": {
      "image/png": "[encoded data removed]",
      "text/plain": [
       "<matplotlib.figure.Figure at 0x105fe9b90>"
      ]
     },
     "metadata": {},
     "output_type": "display_data"
    }
   ],
   "source": [
    "# Plot landscape and scan + true minimum\n",
    "plt.pcolormesh(mu1, mu2, np.log(z), cmap=\"inferno_r\");\n",
    "plt.colorbar();\n",
    "\n",
    "min_idx = np.argmin(z[::1])\n",
    "plt.plot(MU1[min_idx], MU2[min_idx], \"kx\")\n",
    "plt.plot(mu[0], mu[1], \"ko\", alpha=0.5)\n",
    "\n",
    "plt.xlabel(\"mu1\")\n",
    "plt.ylabel(\"mu2\")"
   ]
  },
  {
   "cell_type": "code",
   "execution_count": 9,
   "metadata": {
    "collapsed": false
   },
   "outputs": [],
   "source": [
    "# Do a LLH scan in sigma1, sigma2 space around true mu\n",
    "sigma1 = np.linspace(0.1, 4)\n",
    "sigma2 = np.linspace(0.1, 4)\n",
    "sigma1, sigma2 = np.meshgrid(sigma1, sigma2)\n",
    "\n",
    "SIGMA1 = sigma1.flatten()\n",
    "SIGMA2 = sigma2.flatten()\n",
    "\n",
    "z_sig = np.zeros_like(SIGMA1)\n",
    "\n",
    "for i, (sigma1i, sigma2i) in enumerate(zip(SIGMA1, SIGMA2)):\n",
    "    sigmai = np.array([sigma1i, sigma2i])\n",
    "    z_sig[i] = neglogllh(np.append(mu, sigmai), (sample,))\n",
    "    \n",
    "z_sig = z_sig.reshape(sigma1.shape)"
   ]
  },
  {
   "cell_type": "code",
   "execution_count": 40,
   "metadata": {
    "collapsed": false
   },
   "outputs": [
    {
     "data": {
      "text/plain": [
       "<matplotlib.text.Text at 0x106d349d0>"
      ]
     },
     "execution_count": 40,
     "metadata": {},
     "output_type": "execute_result"
    },
    {
     "data": {
      "image/png": "[encoded data removed]",
      "text/plain": [
       "<matplotlib.figure.Figure at 0x106139e50>"
      ]
     },
     "metadata": {},
     "output_type": "display_data"
    }
   ],
   "source": [
    "# Plot landscape and scan + true minimum\n",
    "plt.pcolormesh(sigma1, sigma2, np.log(z_sig), cmap=\"inferno_r\");\n",
    "plt.colorbar();\n",
    "\n",
    "min_idx = np.argmin(z_sig)\n",
    "plt.plot(SIGMA1[min_idx], SIGMA2[min_idx], \"kx\")\n",
    "plt.plot(sigma[0], sigma[1], \"ko\", alpha=0.5)\n",
    "\n",
    "plt.xlabel(\"sigma1\")\n",
    "plt.ylabel(\"sigma2\")"
   ]
  },
  {
   "cell_type": "markdown",
   "metadata": {},
   "source": [
    "## Fit tests"
   ]
  },
  {
   "cell_type": "code",
   "execution_count": 37,
   "metadata": {
    "collapsed": false
   },
   "outputs": [
    {
     "name": "stderr",
     "output_type": "stream",
     "text": [
      "/Users/tmenne/Library/Python/2.7/lib/python/site-packages/ipykernel/__main__.py:10: RuntimeWarning: divide by zero encountered in log\n"
     ]
    }
   ],
   "source": [
    "mu0 = np.random.uniform(0, 10, 2 * 100).reshape(100, 2)\n",
    "sigma0 = np.random.uniform(0.1, 4, 2 * 100).reshape(100, 2)\n",
    "\n",
    "res = []\n",
    "\n",
    "bounds = [[None, None], [None, None], [0.1, None], [0.1, None]]\n",
    "\n",
    "for i, (mui, sigi) in enumerate(zip(mu0, sigma0)):\n",
    "    res.append(sco.minimize(\n",
    "            neglogllh, np.concatenate((mui, sigmai)), args=(sample), bounds=bounds))"
   ]
  },
  {
   "cell_type": "code",
   "execution_count": 38,
   "metadata": {
    "collapsed": false
   },
   "outputs": [
    {
     "data": {
      "image/png": "[encoded data removed]",
      "text/plain": [
       "<matplotlib.figure.Figure at 0x106be3b90>"
      ]
     },
     "metadata": {},
     "output_type": "display_data"
    },
    {
     "data": {
      "image/png": "[encoded data removed]",
      "text/plain": [
       "<matplotlib.figure.Figure at 0x106caf090>"
      ]
     },
     "metadata": {},
     "output_type": "display_data"
    },
    {
     "data": {
      "image/png": "[encoded data removed]",
      "text/plain": [
       "<matplotlib.figure.Figure at 0x106753cd0>"
      ]
     },
     "metadata": {},
     "output_type": "display_data"
    },
    {
     "data": {
      "image/png": "[encoded data removed]",
      "text/plain": [
       "<matplotlib.figure.Figure at 0x10673b150>"
      ]
     },
     "metadata": {},
     "output_type": "display_data"
    }
   ],
   "source": [
    "min_samples = np.array([resi.x for resi in res])\n",
    "\n",
    "for var_sam in min_samples.T:\n",
    "    plt.hist(var_sam, bins=30, range=[-5, 15])\n",
    "    plt.show()"
   ]
  },
  {
   "cell_type": "code",
   "execution_count": null,
   "metadata": {
    "collapsed": true
   },
   "outputs": [],
   "source": []
  }
 ],
 "metadata": {
  "hide_input": false,
  "kernelspec": {
   "display_name": "Python 2 (OSX)",
   "language": "python",
   "name": "python2"
  },
  "language_info": {
   "codemirror_mode": {
    "name": "ipython",
    "version": 2
   },
   "file_extension": ".py",
   "mimetype": "text/x-python",
   "name": "python",
   "nbconvert_exporter": "python",
   "pygments_lexer": "ipython2",
   "version": "2.7.10"
  }
 },
 "nbformat": 4,
 "nbformat_minor": 1
}
